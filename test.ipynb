{
 "cells": [
  {
   "cell_type": "markdown",
   "metadata": {},
   "source": [
    "### Experimentation"
   ]
  },
  {
   "cell_type": "code",
   "execution_count": 11,
   "metadata": {},
   "outputs": [],
   "source": [
    "import numpy as np\n",
    "import pandas as pd\n",
    "from wordfreq import word_frequency\n",
    "from wordfreq import zipf_frequency\n",
    "import math"
   ]
  },
  {
   "cell_type": "markdown",
   "metadata": {},
   "source": [
    "Experimentation with the zipf_frequency versus the word_frequency functions.\n",
    "\n",
    "You can achieve similar results by setting val = 1 / rate when rate is word_frequency()"
   ]
  },
  {
   "cell_type": "code",
   "execution_count": 44,
   "metadata": {},
   "outputs": [
    {
     "name": "stdout",
     "output_type": "stream",
     "text": [
      "sweater is used approximately once per 165958.6907437563 words in the English language\n",
      "the is used approximately once per 18.620871366628656 words in the English language\n",
      "correct is used approximately once per 16218.100973589299 words in the English language\n",
      "and is used approximately once per 38.904514499428046 words in the English language\n",
      "cute is used approximately once per 22387.21138568338 words in the English language\n",
      "fluffy is used approximately once per 257039.57827688646 words in the English language\n"
     ]
    }
   ],
   "source": [
    "words = [\"sweater\", \"the\", \"correct\", \"and\", \"cute\", \"fluffy\"]\n",
    "\n",
    "for i in words:\n",
    "    rate = zipf_frequency(i, 'en')\n",
    "    val = math.pow(10, 9 - rate)\n",
    "    print(i, \"is used approximately once per\", str(val), \"words in the English language\")"
   ]
  },
  {
   "cell_type": "code",
   "execution_count": 6,
   "metadata": {},
   "outputs": [],
   "source": [
    "valid = np.loadtxt(\"valid-wordle-words.txt\", dtype = str)\n",
    "\n",
    "list = []\n",
    "for i in valid:\n",
    "    list.append(zipf_frequency(i, 'en'))\n",
    "\n",
    "df = pd.DataFrame({\"words\": valid, \"f-score\": list})"
   ]
  },
  {
   "cell_type": "markdown",
   "metadata": {},
   "source": [
    "### Testing"
   ]
  },
  {
   "cell_type": "code",
   "execution_count": 1,
   "metadata": {},
   "outputs": [
    {
     "ename": "IndentationError",
     "evalue": "expected an indented block (predictor.py, line 48)",
     "output_type": "error",
     "traceback": [
      "Traceback \u001b[0;36m(most recent call last)\u001b[0m:\n",
      "\u001b[0m  File \u001b[1;32m~/Library/Python/3.9/lib/python/site-packages/IPython/core/interactiveshell.py:3378\u001b[0m in \u001b[1;35mrun_code\u001b[0m\n    exec(code_obj, self.user_global_ns, self.user_ns)\u001b[0m\n",
      "\u001b[0;36m  Cell \u001b[0;32mIn [1], line 1\u001b[0;36m\n\u001b[0;31m    from predictor import Predictor\u001b[0;36m\n",
      "\u001b[0;36m  File \u001b[0;32m~/Documents/GitHub/Wordle/predictor.py:48\u001b[0;36m\u001b[0m\n\u001b[0;31m    def calculate_letter_counts(self, guess, rule):\u001b[0m\n\u001b[0m    ^\u001b[0m\n\u001b[0;31mIndentationError\u001b[0m\u001b[0;31m:\u001b[0m expected an indented block\n"
     ]
    }
   ],
   "source": [
    "from predictor import Predictor\n",
    "from predictor import Hint\n",
    "import numpy as np\n",
    "import pandas as pd\n",
    "wordle = Predictor()"
   ]
  },
  {
   "cell_type": "code",
   "execution_count": null,
   "metadata": {},
   "outputs": [],
   "source": [
    "word = \"stale\"\n",
    "guess = \"state\"\n",
    "rule = wordle.calculate_rule(word, guess)\n",
    "wordle.make_guess(guess, rule)\n",
    "wordle.update_valid()\n",
    "pd.DataFrame({\"word\": wordle.valid, \"frequency\": wordle.get_frequencies()}).sort_values(\"frequency\", ascending=False)"
   ]
  },
  {
   "cell_type": "code",
   "execution_count": 95,
   "metadata": {},
   "outputs": [
    {
     "data": {
      "text/plain": [
       "array(['a a h e d', 'a a l i i', 'a a r g h', ..., 'z y g o n',\n",
       "       'z y m e s', 'z y m i c'], dtype='<U9')"
      ]
     },
     "execution_count": 95,
     "metadata": {},
     "output_type": "execute_result"
    }
   ],
   "source": [
    "np.char.join(' ', wordle.valid)"
   ]
  }
 ],
 "metadata": {
  "kernelspec": {
   "display_name": "Python 3.9.6 64-bit",
   "language": "python",
   "name": "python3"
  },
  "language_info": {
   "codemirror_mode": {
    "name": "ipython",
    "version": 3
   },
   "file_extension": ".py",
   "mimetype": "text/x-python",
   "name": "python",
   "nbconvert_exporter": "python",
   "pygments_lexer": "ipython3",
   "version": "3.9.6"
  },
  "orig_nbformat": 4,
  "vscode": {
   "interpreter": {
    "hash": "31f2aee4e71d21fbe5cf8b01ff0e069b9275f58929596ceb00d14d90e3e16cd6"
   }
  }
 },
 "nbformat": 4,
 "nbformat_minor": 2
}
