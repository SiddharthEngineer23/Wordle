{
 "cells": [
  {
   "cell_type": "code",
   "execution_count": 43,
   "metadata": {},
   "outputs": [],
   "source": [
    "import numpy as np\n",
    "import pandas as pd\n",
    "from wordfreq import word_frequency\n",
    "from wordfreq import zipf_frequency\n",
    "import math"
   ]
  },
  {
   "cell_type": "markdown",
   "metadata": {},
   "source": [
    "Experimentation with the zipf_frequency versus the word_frequency functions.\n",
    "\n",
    "You can achieve similar results by setting val = 1 / rate when rate is word_frequency()"
   ]
  },
  {
   "cell_type": "code",
   "execution_count": 44,
   "metadata": {},
   "outputs": [
    {
     "name": "stdout",
     "output_type": "stream",
     "text": [
      "sweater is used approximately once per 165958.6907437563 words in the English language\n",
      "the is used approximately once per 18.620871366628656 words in the English language\n",
      "correct is used approximately once per 16218.100973589299 words in the English language\n",
      "and is used approximately once per 38.904514499428046 words in the English language\n",
      "cute is used approximately once per 22387.21138568338 words in the English language\n",
      "fluffy is used approximately once per 257039.57827688646 words in the English language\n"
     ]
    }
   ],
   "source": [
    "words = [\"sweater\", \"the\", \"correct\", \"and\", \"cute\", \"fluffy\"]\n",
    "\n",
    "for i in words:\n",
    "    rate = zipf_frequency(i, 'en')\n",
    "    val = math.pow(10, 9 - rate)\n",
    "    print(i, \"is used approximately once per\", str(val), \"words in the English language\")"
   ]
  },
  {
   "cell_type": "code",
   "execution_count": 6,
   "metadata": {},
   "outputs": [],
   "source": [
    "valid = np.loadtxt(\"valid-wordle-words.txt\", dtype = str)\n",
    "\n",
    "list = []\n",
    "for i in valid:\n",
    "    list.append(zipf_frequency(i, 'en'))\n",
    "\n",
    "df = pd.DataFrame({\"words\": valid, \"f-score\": list})"
   ]
  },
  {
   "cell_type": "code",
   "execution_count": 37,
   "metadata": {},
   "outputs": [],
   "source": [
    "from predictor import Predictor\n",
    "import pandas as pd\n",
    "wordle = Predictor()"
   ]
  },
  {
   "cell_type": "code",
   "execution_count": 41,
   "metadata": {},
   "outputs": [
    {
     "data": {
      "text/html": [
       "<div>\n",
       "<style scoped>\n",
       "    .dataframe tbody tr th:only-of-type {\n",
       "        vertical-align: middle;\n",
       "    }\n",
       "\n",
       "    .dataframe tbody tr th {\n",
       "        vertical-align: top;\n",
       "    }\n",
       "\n",
       "    .dataframe thead th {\n",
       "        text-align: right;\n",
       "    }\n",
       "</style>\n",
       "<table border=\"1\" class=\"dataframe\">\n",
       "  <thead>\n",
       "    <tr style=\"text-align: right;\">\n",
       "      <th></th>\n",
       "      <th>word</th>\n",
       "      <th>frequency</th>\n",
       "    </tr>\n",
       "  </thead>\n",
       "  <tbody>\n",
       "    <tr>\n",
       "      <th>0</th>\n",
       "      <td>couch</td>\n",
       "      <td>4.17</td>\n",
       "    </tr>\n",
       "  </tbody>\n",
       "</table>\n",
       "</div>"
      ],
      "text/plain": [
       "    word  frequency\n",
       "0  couch       4.17"
      ]
     },
     "execution_count": 41,
     "metadata": {},
     "output_type": "execute_result"
    }
   ],
   "source": [
    "word = \"couch\"\n",
    "guess = \"couch\"\n",
    "rule = wordle.calculate_rule(word, guess)\n",
    "wordle.add_guess(guess, rule)\n",
    "wordle.update_valid()\n",
    "pd.DataFrame({\"word\": wordle.valid, \"frequency\": wordle.get_frequencies()}).sort_values(\"frequency\", ascending=False)"
   ]
  }
 ],
 "metadata": {
  "kernelspec": {
   "display_name": "Python 3.9.6 64-bit",
   "language": "python",
   "name": "python3"
  },
  "language_info": {
   "codemirror_mode": {
    "name": "ipython",
    "version": 3
   },
   "file_extension": ".py",
   "mimetype": "text/x-python",
   "name": "python",
   "nbconvert_exporter": "python",
   "pygments_lexer": "ipython3",
   "version": "3.9.6"
  },
  "orig_nbformat": 4,
  "vscode": {
   "interpreter": {
    "hash": "31f2aee4e71d21fbe5cf8b01ff0e069b9275f58929596ceb00d14d90e3e16cd6"
   }
  }
 },
 "nbformat": 4,
 "nbformat_minor": 2
}
